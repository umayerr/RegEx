{
 "cells": [
  {
   "cell_type": "markdown",
   "id": "b4d06688",
   "metadata": {},
   "source": [
    "# To open this file in Google Colab add 'tocolab' just after github in the URL\n",
    "## https://github.com/...........\n",
    "## https://githubtocolab.com/..........."
   ]
  },
  {
   "cell_type": "code",
   "execution_count": 202,
   "id": "57e708c0",
   "metadata": {},
   "outputs": [],
   "source": [
    "#############################################\n",
    "############ REGULAR EXPRESSIONS ############\n",
    "#############################################"
   ]
  },
  {
   "cell_type": "code",
   "execution_count": 6,
   "id": "68b5b57d",
   "metadata": {},
   "outputs": [],
   "source": [
    "### METACHARACTER\n",
    "#\n",
    "#  .       - Any Character Except New Line\n",
    "#  \\d      - Digit (0-9)\n",
    "#  \\D      - Not a Digit (0-9)\n",
    "#  \\w      - Word Character (a-z, A-Z, 0-9, _)\n",
    "#  \\W      - Not a Word Character\n",
    "#  \\s      - Whitespace (space, tab, newline)\n",
    "#  \\S      - Not Whitespace (space, tab, newline)\n",
    "#\n",
    "#  \\b      - Word Boundary\n",
    "#  \\B      - Not a Word Boundary\n",
    "#  ^       - Beginning of a String\n",
    "#  $       - End of a String\n",
    "#\n",
    "#  []      - Matches Characters in brackets\n",
    "#  [^ ]    - Matches Characters NOT in brackets\n",
    "#  |       - Either Or\n",
    "#  ( )     - Group\n",
    "\n",
    "\n",
    "### QUANTIFIER\n",
    "#\n",
    "#  *       - 0 or More\n",
    "#  +       - 1 or More\n",
    "#  ?       - 0 or One\n",
    "#  {n}     - Exact Number\n",
    "#  {min,}    - Range of Numbers (Minimum Defined Only) \n",
    "#  {,max}    - Range of Numbers (Maximum Defined Only)\n",
    "#  {min,max}    - Range of Numbers (Minimum, Maximum)"
   ]
  },
  {
   "cell_type": "code",
   "execution_count": 9,
   "id": "7adf0891",
   "metadata": {},
   "outputs": [],
   "source": [
    "# Import library for regular expression\n",
    "\n",
    "import re"
   ]
  },
  {
   "cell_type": "code",
   "execution_count": 7,
   "id": "4e5c1bd3",
   "metadata": {},
   "outputs": [
    {
     "data": {
      "text/plain": [
       "True"
      ]
     },
     "execution_count": 7,
     "metadata": {},
     "output_type": "execute_result"
    }
   ],
   "source": [
    "# Search something in text without regular expression\n",
    "\n",
    "text = \"The phone number of the agent is 408-555-1234. Call soon!\"\n",
    "\"408-555-1234\" in text"
   ]
  },
  {
   "cell_type": "code",
   "execution_count": 10,
   "id": "7bf2c017",
   "metadata": {},
   "outputs": [
    {
     "data": {
      "text/plain": [
       "<re.Match object; span=(4, 9), match='phone'>"
      ]
     },
     "execution_count": 10,
     "metadata": {},
     "output_type": "execute_result"
    }
   ],
   "source": [
    "# Search pattern in text using regular expression provides more information\n",
    "\n",
    "text = \"The phone number of the agent is 207-123-1234. Call soon!\"\n",
    "pattern = 'phone'\n",
    "re.search(pattern, text)"
   ]
  },
  {
   "cell_type": "code",
   "execution_count": 13,
   "id": "8774be15",
   "metadata": {},
   "outputs": [
    {
     "name": "stdout",
     "output_type": "stream",
     "text": [
      "Pattern's starting and ending position: (4, 9)\n",
      "Pattern's starting position: 4\n",
      "Pattern's ending position: 9\n"
     ]
    }
   ],
   "source": [
    "# Store the pattern result in a variable\n",
    "\n",
    "my_match = re.search(pattern, text)\n",
    "print(f\"Pattern's starting and ending position:\", my_match.span())\n",
    "print(f\"Pattern's starting position:\", my_match.start())\n",
    "print(f\"Pattern's ending position:\", my_match.end())"
   ]
  },
  {
   "cell_type": "code",
   "execution_count": 14,
   "id": "ac4a4dae",
   "metadata": {},
   "outputs": [
    {
     "data": {
      "text/plain": [
       "(3, 8)"
      ]
     },
     "execution_count": 14,
     "metadata": {},
     "output_type": "execute_result"
    }
   ],
   "source": [
    "# In case of multiple matches RegEx returns the position of first match\n",
    "\n",
    "text = 'My phone is a new phone.'\n",
    "match = re.search('phone', text)\n",
    "match.span()"
   ]
  },
  {
   "cell_type": "code",
   "execution_count": 18,
   "id": "4d6f0cbb",
   "metadata": {},
   "outputs": [
    {
     "name": "stdout",
     "output_type": "stream",
     "text": [
      "Matches are stored in a list: ['phone', 'phone']\n",
      "Length of list: 2\n"
     ]
    }
   ],
   "source": [
    "# Store all matches in a variable\n",
    "\n",
    "text = 'My phone is a new phone.'\n",
    "match = re.search('phone', text)\n",
    "all_matches = re.findall('phone', text)\n",
    "print(f'Matches are stored in a list:', all_matches)\n",
    "print(f'Length of list:', len(all_matches))"
   ]
  },
  {
   "cell_type": "code",
   "execution_count": 19,
   "id": "51ce8d96",
   "metadata": {},
   "outputs": [
    {
     "name": "stdout",
     "output_type": "stream",
     "text": [
      "Match number 1: (3, 8)\n",
      "Match number 2: (18, 23)\n"
     ]
    }
   ],
   "source": [
    "# Find the position of all matches\n",
    "\n",
    "text = 'My phone is a new phone.'\n",
    "match = re.search('phone', text)\n",
    "all_matches = re.findall('phone', text)\n",
    "count = 0\n",
    "\n",
    "for match in re.finditer('phone', text):\n",
    "    count += 1\n",
    "    print(f'Match number {count}:', match.span())"
   ]
  },
  {
   "cell_type": "code",
   "execution_count": 128,
   "id": "842b98d3",
   "metadata": {},
   "outputs": [],
   "source": [
    "# Create a string\n"
   ]
  },
  {
   "cell_type": "code",
   "execution_count": 22,
   "id": "c83057f4",
   "metadata": {},
   "outputs": [
    {
     "name": "stdout",
     "output_type": "stream",
     "text": [
      "<re.Match object; span=(19, 31), match='207-123-1234'>\n",
      "207-123-1234\n"
     ]
    }
   ],
   "source": [
    "# Create a pattern\n",
    "# Check the video for the references\n",
    "\n",
    "text = 'My phone number is 207-123-1234.'\n",
    "pattern = r'\\d\\d\\d-\\d\\d\\d-\\d\\d\\d\\d'\n",
    "phone_number = re.search(pattern, text)\n",
    "print(phone_number)\n",
    "print(phone_number.group())"
   ]
  },
  {
   "cell_type": "code",
   "execution_count": 130,
   "id": "a606ed35",
   "metadata": {},
   "outputs": [],
   "source": [
    "# Match the pattern with the text\n"
   ]
  },
  {
   "cell_type": "code",
   "execution_count": 131,
   "id": "7ce2e699",
   "metadata": {},
   "outputs": [
    {
     "data": {
      "text/plain": [
       "<re.Match object; span=(19, 31), match='207-951-8393'>"
      ]
     },
     "execution_count": 131,
     "metadata": {},
     "output_type": "execute_result"
    }
   ],
   "source": [
    "# Print the phone number\n"
   ]
  },
  {
   "cell_type": "code",
   "execution_count": 132,
   "id": "4a659ba4",
   "metadata": {},
   "outputs": [
    {
     "data": {
      "text/plain": [
       "'207-951-8393'"
      ]
     },
     "execution_count": 132,
     "metadata": {},
     "output_type": "execute_result"
    }
   ],
   "source": [
    "# Group only the matching object\n",
    "# Similar to group by\n"
   ]
  },
  {
   "cell_type": "code",
   "execution_count": 133,
   "id": "d11febb4",
   "metadata": {},
   "outputs": [],
   "source": [
    "# Quantifiers for the regular expression\n",
    "# Check the video for more references\n",
    "pattern = r\"\\d{3}-\\d{3}-\\d{4}\""
   ]
  },
  {
   "cell_type": "code",
   "execution_count": 134,
   "id": "110d2652",
   "metadata": {},
   "outputs": [],
   "source": [
    "# Match the pattern with the text\n",
    "phone_number = re.search(pattern, text)"
   ]
  },
  {
   "cell_type": "code",
   "execution_count": 135,
   "id": "300a3e70",
   "metadata": {},
   "outputs": [
    {
     "data": {
      "text/plain": [
       "'207-951-8393'"
      ]
     },
     "execution_count": 135,
     "metadata": {},
     "output_type": "execute_result"
    }
   ],
   "source": [
    "# Group only the matching object\n",
    "# Similar to group by\n",
    "phone_number.group()"
   ]
  },
  {
   "cell_type": "code",
   "execution_count": 25,
   "id": "09f0d5e9",
   "metadata": {},
   "outputs": [],
   "source": [
    "############################################\n",
    "###### REGULAR EXPRESSIONS - PART TWO ######\n",
    "############################################"
   ]
  },
  {
   "cell_type": "code",
   "execution_count": 143,
   "id": "393a5ccf",
   "metadata": {},
   "outputs": [],
   "source": [
    "# Group the pattern using parentheses\n",
    "pattern = r\"(\\d{3})-(\\d{3})-(\\d{4})\""
   ]
  },
  {
   "cell_type": "code",
   "execution_count": 144,
   "id": "d8df4879",
   "metadata": {},
   "outputs": [],
   "source": [
    "# Match the pattern with the text\n",
    "my_match = re.search(pattern, text)"
   ]
  },
  {
   "cell_type": "code",
   "execution_count": 145,
   "id": "aeed364a",
   "metadata": {},
   "outputs": [
    {
     "data": {
      "text/plain": [
       "'207-951-8393'"
      ]
     },
     "execution_count": 145,
     "metadata": {},
     "output_type": "execute_result"
    }
   ],
   "source": [
    "# Group only the matching object\n",
    "# Similar to group by\n",
    "my_match.group()"
   ]
  },
  {
   "cell_type": "code",
   "execution_count": 146,
   "id": "a253de3f",
   "metadata": {},
   "outputs": [
    {
     "data": {
      "text/plain": [
       "'207'"
      ]
     },
     "execution_count": 146,
     "metadata": {},
     "output_type": "execute_result"
    }
   ],
   "source": [
    "# Retrieve the first group of the string\n",
    "# For example, to find the area code only\n",
    "my_match.group(1)"
   ]
  },
  {
   "cell_type": "code",
   "execution_count": 151,
   "id": "12fbd329",
   "metadata": {},
   "outputs": [
    {
     "data": {
      "text/plain": [
       "<re.Match object; span=(13, 18), match='woman'>"
      ]
     },
     "execution_count": 151,
     "metadata": {},
     "output_type": "execute_result"
    }
   ],
   "source": [
    "# Or operator in regular expression\n",
    "re.search(r\"man|woman\", \"He is a good woman.\")"
   ]
  },
  {
   "cell_type": "code",
   "execution_count": 159,
   "id": "caae57b0",
   "metadata": {},
   "outputs": [
    {
     "data": {
      "text/plain": [
       "['cat', 'hat', 'sat', 'lat']"
      ]
     },
     "execution_count": 159,
     "metadata": {},
     "output_type": "execute_result"
    }
   ],
   "source": [
    "# Wildcard in regular expression\n",
    "re.findall(r\".at\", \"The cat in the hat sat splat\")"
   ]
  },
  {
   "cell_type": "code",
   "execution_count": 160,
   "id": "a1b6eb12",
   "metadata": {},
   "outputs": [
    {
     "data": {
      "text/plain": [
       "['1']"
      ]
     },
     "execution_count": 160,
     "metadata": {},
     "output_type": "execute_result"
    }
   ],
   "source": [
    "# Starts with in regular expression\n",
    "re.findall(r\"^\\d\", \"1 is the loneliest number\")"
   ]
  },
  {
   "cell_type": "code",
   "execution_count": 164,
   "id": "8db5fd6e",
   "metadata": {},
   "outputs": [
    {
     "data": {
      "text/plain": [
       "['2']"
      ]
     },
     "execution_count": 164,
     "metadata": {},
     "output_type": "execute_result"
    }
   ],
   "source": [
    "# Ends with in regular expression\n",
    "re.findall(r\"\\d$\", \"This line ends with the number 2\")"
   ]
  },
  {
   "cell_type": "code",
   "execution_count": 182,
   "id": "4b9b447a",
   "metadata": {},
   "outputs": [
    {
     "data": {
      "text/plain": [
       "['There are ', ' numbers ', ' inside ', ' this sentence']"
      ]
     },
     "execution_count": 182,
     "metadata": {},
     "output_type": "execute_result"
    }
   ],
   "source": [
    "# Exclude specific patterns from the phrase\n",
    "phrase = \"There are 3 numbers 34 inside 5 this sentence\"\n",
    "re.findall(r\"[^\\d]+\", phrase)"
   ]
  },
  {
   "cell_type": "code",
   "execution_count": 171,
   "id": "6ebbac1a",
   "metadata": {},
   "outputs": [
    {
     "data": {
      "text/plain": [
       "['This',\n",
       " 'is',\n",
       " 'a',\n",
       " 'string',\n",
       " 'But',\n",
       " 'it',\n",
       " 'has',\n",
       " 'punctuation',\n",
       " 'How',\n",
       " 'to',\n",
       " 'remove',\n",
       " 'it']"
      ]
     },
     "execution_count": 171,
     "metadata": {},
     "output_type": "execute_result"
    }
   ],
   "source": [
    "# Exclude punctuation from the sentence\n",
    "test_phrase = \"This is a string! But it has punctuation. How to remove it?\"\n",
    "re.findall(r\"[^.!? ]+\", test_phrase)"
   ]
  },
  {
   "cell_type": "code",
   "execution_count": 175,
   "id": "d5193058",
   "metadata": {},
   "outputs": [
    {
     "data": {
      "text/plain": [
       "'This is a string But it has punctuation How to remove it'"
      ]
     },
     "execution_count": 175,
     "metadata": {},
     "output_type": "execute_result"
    }
   ],
   "source": [
    "# Join string with the list\n",
    "my_list = re.findall(r\"[^.!? ]+\", test_phrase)\n",
    "\" \".join(my_list)"
   ]
  },
  {
   "cell_type": "code",
   "execution_count": 176,
   "id": "58567899",
   "metadata": {},
   "outputs": [
    {
     "data": {
      "text/plain": [
       "['hyphen-words', 'long-ish']"
      ]
     },
     "execution_count": 176,
     "metadata": {},
     "output_type": "execute_result"
    }
   ],
   "source": [
    "# + sign allow grouping in the regular expression\n",
    "text = \"Only find the hyphen-words. Were are the long-ish dash words?\"\n",
    "re.findall(r\"[\\w]+-[\\w]+\", text)"
   ]
  },
  {
   "cell_type": "code",
   "execution_count": null,
   "id": "61c05b7d",
   "metadata": {},
   "outputs": [],
   "source": [
    " "
   ]
  }
 ],
 "metadata": {
  "kernelspec": {
   "display_name": "Python 3",
   "language": "python",
   "name": "python3"
  },
  "language_info": {
   "codemirror_mode": {
    "name": "ipython",
    "version": 3
   },
   "file_extension": ".py",
   "mimetype": "text/x-python",
   "name": "python",
   "nbconvert_exporter": "python",
   "pygments_lexer": "ipython3",
   "version": "3.8.8"
  }
 },
 "nbformat": 4,
 "nbformat_minor": 5
}
